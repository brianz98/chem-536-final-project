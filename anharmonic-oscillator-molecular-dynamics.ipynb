{
 "cells": [
  {
   "cell_type": "code",
   "execution_count": 3,
   "id": "946f3a4c",
   "metadata": {},
   "outputs": [],
   "source": [
    "import numpy as np\n",
    "import matplotlib.pyplot as plt"
   ]
  },
  {
   "cell_type": "markdown",
   "id": "7e285b34",
   "metadata": {},
   "source": [
    "## The Verlet integrator\n",
    "$$\n",
    "r(t+\\delta t) = 2r(t)-r(t-\\delta t)+\\frac{f(t)}{m}\\delta t^2+\\mathcal{O}(\\delta t^4)\n",
    "$$\n",
    "$$\n",
    "v(t)=\\frac{r(t+\\delta t)-r(t-\\delta t)}{2\\delta t}+\\mathcal{O}(\\delta t^2)\n",
    "$$"
   ]
  },
  {
   "cell_type": "code",
   "execution_count": 4,
   "id": "48b4b727",
   "metadata": {},
   "outputs": [],
   "source": [
    "class AnharmParticle:\n",
    "    def __init__(self, x0, v0, dt, maxiter):\n",
    "        # Initial conditions\n",
    "        self.x0 = x0\n",
    "        self.v0 = v0\n",
    "        self.a0 = None\n",
    "        self.iter = 0 # So that the storage index is intuitive\n",
    "        \n",
    "        # integrator\n",
    "        self.dt = dt\n",
    "        \n",
    "        # Properties\n",
    "        self.x = None\n",
    "        self.v = None\n",
    "        self.a = None\n",
    "        self.ke = None\n",
    "        self.pe = None\n",
    "        self.etot = None\n",
    "        \n",
    "        # Scratch variable for Verlet\n",
    "        self.x_old = None\n",
    "        \n",
    "        # Data storage\n",
    "        self.maxiter = maxiter\n",
    "        self.x_traj = np.zeros(maxiter)\n",
    "        self.v_traj = np.zeros(maxiter)\n",
    "        \n",
    "        self.initialise()\n",
    "        \n",
    "    def initialise(self):\n",
    "        if (self.iter != 0):\n",
    "            raise RuntimeError(\"AnharmParticle.initialise() called after initialisation\")\n",
    "        else:\n",
    "            self.x = self.x0\n",
    "            self.v = self.v0\n",
    "            self.energyEval()\n",
    "            self.forceEval()\n",
    "            self.a0 = self.a # So that the complete set of initial conditions is available\n",
    "            self.x_traj[self.iter] = self.x\n",
    "            self.v_traj[self.iter] = self.v\n",
    "            self.iter += 1\n",
    "    \n",
    "    def energyEval(self):\n",
    "        self.ke = 0.5 * self.v**2\n",
    "        self.pe = 0.5 - self.x**2 + 0.5*self.x**4\n",
    "        self.etot = self.ke + self.pe\n",
    "        \n",
    "    def forceEval(self):\n",
    "        self.a = 2*self.x - 2*self.x**3\n",
    "    \n",
    "    def run_MD(self):\n",
    "        while self.iter < self.maxiter:\n",
    "            self.verletStep()\n",
    "            self.x_traj[self.iter] = self.x\n",
    "            self.v_traj[self.iter] = self.v\n",
    "            self.iter += 1\n",
    "    \n",
    "    def reset(self):\n",
    "        self.iter = 0\n",
    "        self.initialise()\n",
    "        \n",
    "    def eulerStep(self):\n",
    "        self.x = self.x + self.v * self.dt\n",
    "        self.v = self.v + self.a * self.dt\n",
    "        self.forceEval()\n",
    "        \n",
    "    def verletStep(self):\n",
    "        if self.iter == 1:\n",
    "            # first Verlet iteration has to be Euler\n",
    "            self.x_old = self.x + self.v * self.dt\n",
    "            self.forceEval()\n",
    "        \n",
    "        x_new = 2*self.x - self.x_old + self.a*(self.dt**2)\n",
    "        self.v = (x_new - self.x_old)/(2*self.dt)\n",
    "        self.x_old = self.x\n",
    "        self.x = x_new\n",
    "        self.forceEval()"
   ]
  },
  {
   "cell_type": "code",
   "execution_count": 11,
   "id": "9d62fdce",
   "metadata": {},
   "outputs": [
    {
     "data": {
      "text/plain": [
       "Text(0, 0.5, '$v$')"
      ]
     },
     "execution_count": 11,
     "metadata": {},
     "output_type": "execute_result"
    },
    {
     "data": {
      "image/png": "[encoded data removed]",
      "text/plain": [
       "<Figure size 864x576 with 1 Axes>"
      ]
     },
     "metadata": {
      "needs_background": "light"
     },
     "output_type": "display_data"
    }
   ],
   "source": [
    "p1 = AnharmParticle(0.5, 0.5, 0.001, 10000)\n",
    "p1.run_MD()\n",
    "\n",
    "f,ax = plt.subplots(figsize=(12,8))\n",
    "ax.scatter(p1.x_traj,p1.v_traj)\n",
    "ax.set_xlabel(r'$x$')\n",
    "ax.set_ylabel(r'$v$')"
   ]
  },
  {
   "cell_type": "code",
   "execution_count": 27,
   "id": "74c11129",
   "metadata": {},
   "outputs": [
    {
     "data": {
      "text/plain": [
       "array([ 0.00000000e+00, -1.00000000e-03, -2.00000200e-03, ...,\n",
       "        1.55365806e+00,  1.55362393e+00,  0.00000000e+00])"
      ]
     },
     "execution_count": 27,
     "metadata": {},
     "output_type": "execute_result"
    }
   ],
   "source": [
    "p1.x_traj"
   ]
  },
  {
   "cell_type": "code",
   "execution_count": null,
   "id": "cfd1a3f7",
   "metadata": {},
   "outputs": [],
   "source": []
  }
 ],
 "metadata": {
  "kernelspec": {
   "display_name": "Python 3",
   "language": "python",
   "name": "python3"
  },
  "language_info": {
   "codemirror_mode": {
    "name": "ipython",
    "version": 3
   },
   "file_extension": ".py",
   "mimetype": "text/x-python",
   "name": "python",
   "nbconvert_exporter": "python",
   "pygments_lexer": "ipython3",
   "version": "3.8.8"
  }
 },
 "nbformat": 4,
 "nbformat_minor": 5
}
